{
 "cells": [
  {
   "cell_type": "markdown",
   "metadata": {},
   "source": [
    "# Land Cover Plotting\n",
    "\n",
    "Generates a unique color map for different land cover types, can be altered for heat maps"
   ]
  },
  {
   "cell_type": "code",
   "execution_count": null,
   "metadata": {},
   "outputs": [],
   "source": [
    "import matplotlib.pyplot as plt\n",
    "#Color coding\n",
    "\n",
    "#plot a single town\n",
    "city = geocode_to_region_gdf(\"Osaka, Japan\")\n",
    "\n",
    "shp_plot = gpd.clip(shp, city)\n",
    "\n",
    "shp_plot.plot()\n",
    "\n",
    "column_to_color = 'land_cover'\n",
    "unique_values = shp_plot[column_to_color].unique() #Create unique color mapping for land cover\n",
    "#create custom cmap\n",
    "cmap = plt.get_cmap('tab20', len(unique_values))\n",
    "color_mapping = {value: cmap(i) for i, value in enumerate(unique_values)}\n",
    "\n",
    "# Create a new column for color\n",
    "shp_plot['color'] = shp_plot[column_to_color].map(color_mapping)\n",
    "\n",
    "#Plot creation\n",
    "fig, ax = plt.subplots(1, 1, figsize=(10, 15))\n",
    "shp_plot.plot(color=shp_plot['color'], legend=False, ax=ax)\n",
    "\n",
    "# Customize the plot title and labels\n",
    "ax.set_title('Land Cover', fontsize=20)\n",
    "ax.set_xlabel('Longitude', fontsize=15)\n",
    "ax.set_ylabel('Latitude', fontsize=15)\n",
    "\n",
    "# Create a custom legend\n",
    "handles = [plt.Line2D([0], [0], marker='o', color='w', markerfacecolor=color_mapping[val], markersize=10, label=str(val)) for val in unique_values]\n",
    "ax.legend(handles=handles, title=column_to_color, title_fontsize='13', fontsize='10', loc='upper left', bbox_to_anchor=(1, 1))\n",
    "\n",
    "# Customize the legend\n",
    "leg = ax.get_legend()\n",
    "leg.set_title('Land Cover', prop={'size': 15})\n",
    "for text in leg.get_texts():\n",
    "    text.set_fontsize(12)  # Adjust legend text size\n",
    "\n",
    "# Show plot\n",
    "plt.show()"
   ]
  }
 ],
 "metadata": {
  "kernelspec": {
   "display_name": ".venv",
   "language": "python",
   "name": "python3"
  },
  "language_info": {
   "name": "python",
   "version": "3.9.6"
  }
 },
 "nbformat": 4,
 "nbformat_minor": 2
}
